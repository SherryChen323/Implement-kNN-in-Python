{
 "cells": [
  {
   "cell_type": "markdown",
   "metadata": {},
   "source": [
    "# Implement kNN in Python"
   ]
  },
  {
   "cell_type": "markdown",
   "metadata": {},
   "source": [
    "## Part A"
   ]
  },
  {
   "cell_type": "markdown",
   "metadata": {},
   "source": [
    "(a) Download MNIST digit dataset (60,000 training and 10,000 testing data points) and the starter code from the course page. Each row in the matrix represents a handwritten digit image. The starter code shows how to visualize an example data point in Matlab. The task is to predict the class (0 to 9) for a given test image, so it is a 10-way classification problem."
   ]
  },
  {
   "cell_type": "code",
   "execution_count": 32,
   "metadata": {
    "scrolled": true
   },
   "outputs": [
    {
     "name": "stdout",
     "output_type": "stream",
     "text": [
      "images:\n",
      "[[0. 0. 0. ... 0. 0. 0.]\n",
      " [0. 0. 0. ... 0. 0. 0.]\n",
      " [0. 0. 0. ... 0. 0. 0.]\n",
      " ...\n",
      " [0. 0. 0. ... 0. 0. 0.]\n",
      " [0. 0. 0. ... 0. 0. 0.]\n",
      " [0. 0. 0. ... 0. 0. 0.]]\n",
      "labels:\n",
      "[[7]\n",
      " [3]\n",
      " [4]\n",
      " ...\n",
      " [3]\n",
      " [6]\n",
      " [6]]\n",
      "---------------------\n",
      "images_train: (60000, 784)\n",
      "labels_train: (60000, 1)\n",
      "images_test: (10000, 784)\n",
      "labels_test: (10000, 1)\n"
     ]
    },
    {
     "data": {
      "image/png": "[encoded data removed]",
      "text/plain": [
       "<Figure size 432x288 with 1 Axes>"
      ]
     },
     "metadata": {
      "needs_background": "light"
     },
     "output_type": "display_data"
    }
   ],
   "source": [
    "import numpy as np\n",
    "from scipy.io import loadmat\n",
    "import matplotlib.pyplot as plt\n",
    "\n",
    "#Loading the data\n",
    "M = loadmat('MNIST_digit_data.mat')\n",
    "images_train,images_test,labels_train,labels_test= M['images_train'],M['images_test'],M['labels_train'],M['labels_test']\n",
    "\n",
    "#just to make all random sequences on all computers the same.\n",
    "np.random.seed(1)\n",
    "\n",
    "#randomly permute data points\n",
    "inds = np.random.permutation(images_train.shape[0])\n",
    "images_train = images_train[inds]\n",
    "labels_train = labels_train[inds]\n",
    "\n",
    "print(\"images:\")\n",
    "print(images_train)\n",
    "print(\"labels:\")\n",
    "print(labels_train)\n",
    "print(\"---------------------\")\n",
    "\n",
    "inds = np.random.permutation(images_test.shape[0])\n",
    "images_test = images_test[inds]\n",
    "labels_test = labels_test[inds]\n",
    "\n",
    "#if you want to use only the first 1000 data points.\n",
    "# images_test = images_test[0:1000,:]\n",
    "# labels_test = labels_test[0:1000,:]\n",
    "\n",
    "print(\"images_train:\",images_train.shape)\n",
    "print(\"labels_train:\",labels_train.shape)\n",
    "print(\"images_test:\",images_test.shape)\n",
    "print(\"labels_test:\",labels_test.shape)\n",
    "\n",
    "#show the 10'th train image\n",
    "i=10\n",
    "im = images_train[i,:].reshape((28,28),order='F')\n",
    "plt.imshow(im)\n",
    "plt.title('Class Label:'+str(labels_train[i][0]))\n",
    "plt.show()"
   ]
  },
  {
   "cell_type": "markdown",
   "metadata": {},
   "source": [
    "## Part B"
   ]
  },
  {
   "cell_type": "markdown",
   "metadata": {},
   "source": [
    "(b) Write a Matlab or Python function that implements kNN for this task and reports the accuracy for each class (10 numbers) as well as the average accuracy (one number).\n",
    "[acc acc av] = kNN(images train, labels train, images test, labels test, k)\n",
    "where acc is a vector of length 10 and acc av is a scalar. Look at a few correct and wrong predictions to see if it makes sense. To speed it up, in all experiments, you may use only the first 1000 testing images."
   ]
  },
  {
   "cell_type": "code",
   "execution_count": 33,
   "metadata": {
    "scrolled": true
   },
   "outputs": [],
   "source": [
    "import numpy as np\n",
    "import operator \n",
    "from operator import itemgetter\n",
    "\n",
    "def euc_dist(x1, x2):\n",
    "    return np.sqrt(np.sum((x1-x2)**2))\n",
    "\n",
    "def predict(imagestrain, labelstrain, imagestest, labelstest, K):\n",
    "    predictions = []\n",
    "    for i in range(len(imagestest)):\n",
    "        dist = np.array([euc_dist(imagestest[i], x_t) for x_t in imagestrain])#distance between the selected test point and all train points\n",
    "        dist_sorted = dist.argsort()[:K]  #dis_sort = index of label_train  ＃choose Ｋ nearest data\n",
    "        neigh_count = {}\n",
    "        for idx in dist_sorted:\n",
    "            if labelstrain[idx][0] in neigh_count:\n",
    "                neigh_count[labelstrain[idx][0]] += 1\n",
    "            else:\n",
    "                neigh_count[labelstrain[idx][0]] = 1\n",
    "        sorted_neigh_count = sorted(neigh_count.items(), key=operator.itemgetter(1), reverse=True)\n",
    "        predictions.append(sorted_neigh_count[0][0])\n",
    "    return(predictions)"
   ]
  },
  {
   "cell_type": "code",
   "execution_count": 34,
   "metadata": {},
   "outputs": [],
   "source": [
    "images_test_1000 = images_test[0:1000,:]\n",
    "labels_test_1000 = labels_test[0:1000,:]\n",
    "pred_1000 = predict(images_train, labels_train, images_test_1000, labels_test_1000, 5)"
   ]
  },
  {
   "cell_type": "code",
   "execution_count": 35,
   "metadata": {},
   "outputs": [
    {
     "name": "stdout",
     "output_type": "stream",
     "text": [
      "0 accuracy: 1.0\n",
      "1 accuracy: 1.0\n",
      "2 accuracy: 0.9191919191919192\n",
      "3 accuracy: 0.9652173913043478\n",
      "4 accuracy: 0.9770114942528736\n",
      "5 accuracy: 0.9893617021276596\n",
      "6 accuracy: 0.9883720930232558\n",
      "7 accuracy: 0.9741379310344828\n",
      "8 accuracy: 0.9278350515463918\n",
      "9 accuracy: 0.9509803921568627\n",
      "\n",
      "acc_av = 0.969\n",
      "acc = [1.0, 1.0, 0.9191919191919192, 0.9652173913043478, 0.9770114942528736, 0.9893617021276596, 0.9883720930232558, 0.9741379310344828, 0.9278350515463918, 0.9509803921568627]\n"
     ]
    }
   ],
   "source": [
    "# Change test_labels from 2D array to 1D array\n",
    "labels_test_one_array = []\n",
    "for i in range(0,len(labels_test_1000)):\n",
    "    labels_test_one_array.append(labels_test[i][0])\n",
    "\n",
    "# Caculate the average accuracy\n",
    "from sklearn.metrics import precision_recall_fscore_support\n",
    "from sklearn.metrics import accuracy_score\n",
    "# print(\"labels_test:\",labels_test_one_array)\n",
    "# print(\"pred:\", pred)\n",
    "acc_av = accuracy_score(labels_test_one_array, pred_1000)\n",
    "\n",
    "# Caculate 1 accuracy\n",
    "# labels_test_one_array v.s pred\n",
    "all_num = 0\n",
    "same_num = 0\n",
    "acc = []\n",
    "for j in range(0,10):\n",
    "    all_num = 0\n",
    "    same_num = 0\n",
    "    for i in range(0,len(labels_test_one_array)):\n",
    "        if labels_test_one_array[i] == j:\n",
    "            all_num = all_num + 1\n",
    "            if pred_1000 [i] == j:\n",
    "                same_num = same_num + 1\n",
    "    if all_num == 0:\n",
    "        acc.append(-1)\n",
    "        all_num = -1\n",
    "    else:\n",
    "        acc.append(same_num/all_num)\n",
    "        print(j,\"accuracy:\",same_num/all_num)\n",
    "#     print(j,\"accuracy:\",same_num,all_num,same_num/all_num)\n",
    "        \n",
    "print(\"\")\n",
    "print(\"acc_av =\",acc_av)\n",
    "print(\"acc =\",acc)\n"
   ]
  },
  {
   "cell_type": "markdown",
   "metadata": {},
   "source": [
    "## Part C"
   ]
  },
  {
   "cell_type": "markdown",
   "metadata": {},
   "source": [
    "(c) For k = 1, change the number of training data points (30 to 10,000) to see the change in perfor- mance. Plot the average accuracy for 10 different dataset sizes. You may use command logspace in Matlab. In the plot, x-axis is for the number of training data and y-axis is for the accuracy."
   ]
  },
  {
   "cell_type": "code",
   "execution_count": 36,
   "metadata": {},
   "outputs": [
    {
     "name": "stdout",
     "output_type": "stream",
     "text": [
      "30 acc_av: 0.607\n",
      "50 acc_av: 0.639\n",
      "100 acc_av: 0.723\n",
      "500 acc_av: 0.842\n",
      "1000 acc_av: 0.863\n",
      "2000 acc_av: 0.893\n",
      "4000 acc_av: 0.925\n",
      "6000 acc_av: 0.939\n",
      "8000 acc_av: 0.941\n",
      "10000 acc_av: 0.953\n"
     ]
    }
   ],
   "source": [
    "from sklearn.metrics import precision_recall_fscore_support\n",
    "from sklearn.metrics import accuracy_score\n",
    "\n",
    "images_test_1000 = images_test[0:1000,:]\n",
    "labels_test_1000 = labels_test[0:1000,:]\n",
    "accuracy = []\n",
    "\n",
    "size = [30, 50, 100, 500, 1000, 2000, 4000, 6000, 8000, 10000]\n",
    "\n",
    "for j in size:\n",
    "    images_train_size = images_train[0:j,:]\n",
    "    labels_train_size = labels_train[0:j,:]\n",
    "    pred = predict(images_train_size, labels_train_size, images_test_1000, labels_test_1000, 1)  #K=1\n",
    "    \n",
    "    # Change test_labels from 2D array to 1D array\n",
    "    labels_test_one_array = []\n",
    "    for i in range(0,len(labels_test_1000)):\n",
    "        labels_test_one_array.append(labels_test_1000[i][0])\n",
    "        \n",
    "    acc_av = accuracy_score(labels_test_one_array, pred)   \n",
    "    print(j,\"acc_av:\",acc_av)\n",
    "    accuracy.append(acc_av)\n",
    "    \n",
    "    \n",
    "    "
   ]
  },
  {
   "cell_type": "code",
   "execution_count": 37,
   "metadata": {
    "scrolled": true
   },
   "outputs": [
    {
     "data": {
      "text/plain": [
       "Text(0, 0.5, 'Accuracy')"
      ]
     },
     "execution_count": 37,
     "metadata": {},
     "output_type": "execute_result"
    },
    {
     "data": {
      "image/png": "[encoded data removed]",
      "text/plain": [
       "<Figure size 432x288 with 1 Axes>"
      ]
     },
     "metadata": {
      "needs_background": "light"
     },
     "output_type": "display_data"
    }
   ],
   "source": [
    "from matplotlib import pyplot as plt\n",
    "plt.plot(size,accuracy) \n",
    "plt.xlabel(\"Number of training data\") \n",
    "plt.ylabel(\"Accuracy\")"
   ]
  },
  {
   "cell_type": "markdown",
   "metadata": {},
   "source": [
    "## Part D"
   ]
  },
  {
   "cell_type": "markdown",
   "metadata": {},
   "source": [
    "(d) Show the effect of k on the accuracy. Make a plot similar to the above one with multiple colored curves on the top of each other (each for a particular k in [1 2 3 5 10].) You may use command legend in Matlab to name different colors."
   ]
  },
  {
   "cell_type": "code",
   "execution_count": 38,
   "metadata": {},
   "outputs": [
    {
     "name": "stdout",
     "output_type": "stream",
     "text": [
      "k= 1\n",
      "30 acc_av: 0.607\n",
      "50 acc_av: 0.639\n",
      "100 acc_av: 0.723\n",
      "500 acc_av: 0.842\n",
      "1000 acc_av: 0.863\n",
      "2000 acc_av: 0.893\n",
      "4000 acc_av: 0.925\n",
      "6000 acc_av: 0.939\n",
      "8000 acc_av: 0.941\n",
      "10000 acc_av: 0.953\n",
      "k= 2\n",
      "30 acc_av: 0.607\n",
      "50 acc_av: 0.639\n",
      "100 acc_av: 0.723\n",
      "500 acc_av: 0.842\n",
      "1000 acc_av: 0.863\n",
      "2000 acc_av: 0.893\n",
      "4000 acc_av: 0.925\n",
      "6000 acc_av: 0.939\n",
      "8000 acc_av: 0.941\n",
      "10000 acc_av: 0.953\n",
      "k= 3\n",
      "30 acc_av: 0.55\n",
      "50 acc_av: 0.601\n",
      "100 acc_av: 0.71\n",
      "500 acc_av: 0.846\n",
      "1000 acc_av: 0.885\n",
      "2000 acc_av: 0.904\n",
      "4000 acc_av: 0.927\n",
      "6000 acc_av: 0.933\n",
      "8000 acc_av: 0.948\n",
      "10000 acc_av: 0.95\n",
      "k= 5\n",
      "30 acc_av: 0.484\n",
      "50 acc_av: 0.554\n",
      "100 acc_av: 0.69\n",
      "500 acc_av: 0.852\n",
      "1000 acc_av: 0.878\n",
      "2000 acc_av: 0.906\n",
      "4000 acc_av: 0.932\n",
      "6000 acc_av: 0.941\n",
      "8000 acc_av: 0.95\n",
      "10000 acc_av: 0.95\n",
      "k= 10\n",
      "30 acc_av: 0.36\n",
      "50 acc_av: 0.407\n",
      "100 acc_av: 0.652\n",
      "500 acc_av: 0.846\n",
      "1000 acc_av: 0.877\n",
      "2000 acc_av: 0.908\n",
      "4000 acc_av: 0.924\n",
      "6000 acc_av: 0.932\n",
      "8000 acc_av: 0.941\n",
      "10000 acc_av: 0.944\n"
     ]
    },
    {
     "data": {
      "image/png": "[encoded data removed]",
      "text/plain": [
       "<Figure size 432x288 with 1 Axes>"
      ]
     },
     "metadata": {
      "needs_background": "light"
     },
     "output_type": "display_data"
    }
   ],
   "source": [
    "k_array = [1, 2, 3, 5, 10]\n",
    "size = [30, 50, 100, 500, 1000, 2000, 4000, 6000, 8000, 10000]\n",
    "\n",
    "for k in k_array:\n",
    "    accuracy = []\n",
    "    print(\"k=\",k)\n",
    "    for j in size:\n",
    "        images_train_size = images_train[0:j,:]\n",
    "        labels_train_size = labels_train[0:j,:]\n",
    "        pred = predict(images_train_size, labels_train_size, images_test_1000, labels_test_1000, k)  #K=1,2,3,5,10\n",
    "\n",
    "        # Change test_labels from 2D array to 1D array\n",
    "        labels_test_one_array = []\n",
    "        for i in range(0,len(labels_test_1000)):\n",
    "            labels_test_one_array.append(labels_test_1000[i][0])\n",
    "\n",
    "        acc_av = accuracy_score(labels_test_one_array, pred)   \n",
    "        print(j,\"acc_av:\",acc_av)\n",
    "        accuracy.append(acc_av)\n",
    "        \n",
    "\n",
    "    plt.plot(size,accuracy,label=\"k=\"+str(k)) \n",
    "    plt.xlabel(\"Number of training data\") \n",
    "    plt.ylabel(\"Accuracy\")\n",
    "    plt.legend()\n",
    "        "
   ]
  },
  {
   "cell_type": "markdown",
   "metadata": {},
   "source": [
    "## Part E"
   ]
  },
  {
   "cell_type": "markdown",
   "metadata": {},
   "source": [
    "(e) Choose the best k for 2,000 total training data by splitting the training data into two halves (the first for training and the second for validation). You may plot the average accuracy wrt k for this. Note that in this part, you should not use the test data. You may search for k in this list: [1 2 3 5 10]."
   ]
  },
  {
   "cell_type": "code",
   "execution_count": 39,
   "metadata": {},
   "outputs": [
    {
     "name": "stdout",
     "output_type": "stream",
     "text": [
      "k= 1\n",
      "acc_av: 0.869\n",
      "k= 2\n",
      "acc_av: 0.869\n",
      "k= 3\n",
      "acc_av: 0.875\n",
      "k= 5\n",
      "acc_av: 0.884\n",
      "k= 10\n",
      "acc_av: 0.87\n",
      "\n",
      "Best K = 5\n",
      "Accuracy = 0.884\n"
     ]
    },
    {
     "data": {
      "image/png": "[encoded data removed]",
      "text/plain": [
       "<Figure size 432x288 with 1 Axes>"
      ]
     },
     "metadata": {
      "needs_background": "light"
     },
     "output_type": "display_data"
    }
   ],
   "source": [
    "k_list = [1, 2, 3, 5, 10]\n",
    "images_train_2000 = images_train[0:2000,:]\n",
    "labels_train_2000 = labels_train[0:2000,:]\n",
    "\n",
    "images_train_1k = images_train_2000[0:1000,:]\n",
    "labels_train_1k = labels_train_2000[0:1000,:]\n",
    "images_test_1k = images_train_2000[1000::,:]\n",
    "labels_test_1k = labels_train_2000[1000:,:]\n",
    "\n",
    "accuracy = []\n",
    "\n",
    "for k in k_list:\n",
    "    print(\"k=\",k)\n",
    "    \n",
    "    pred = predict(images_train_1k, labels_train_1k, images_test_1k, labels_test_1k, k)  #K=1,2,3,5,10\n",
    "\n",
    "    # Change test_labels from 2D array to 1D array\n",
    "    labels_test_one_array = []\n",
    "    for i in range(0,len(labels_test_1k)):\n",
    "        labels_test_one_array.append(labels_test_1k[i][0])\n",
    "\n",
    "    acc_av = accuracy_score(labels_test_one_array, pred)   \n",
    "    print(\"acc_av:\",acc_av)\n",
    "    accuracy.append(acc_av)\n",
    "\n",
    "print(\"\")\n",
    "# print(accuracy)\n",
    "\n",
    "plt.plot(k_list,accuracy) \n",
    "plt.xlabel(\"K value\") \n",
    "plt.ylabel(\"Accuracy\")\n",
    "\n",
    "index = accuracy.index(max(accuracy))\n",
    "print(\"Best K =\", k_list[index])\n",
    "print(\"Accuracy =\",accuracy[index])"
   ]
  }
 ],
 "metadata": {
  "kernelspec": {
   "display_name": "Python 3",
   "language": "python",
   "name": "python3"
  },
  "language_info": {
   "codemirror_mode": {
    "name": "ipython",
    "version": 3
   },
   "file_extension": ".py",
   "mimetype": "text/x-python",
   "name": "python",
   "nbconvert_exporter": "python",
   "pygments_lexer": "ipython3",
   "version": "3.8.3"
  }
 },
 "nbformat": 4,
 "nbformat_minor": 4
}
